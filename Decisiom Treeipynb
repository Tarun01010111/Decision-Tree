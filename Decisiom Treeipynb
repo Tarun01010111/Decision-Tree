{
 "cells": [
  {
   "cell_type": "code",
   "execution_count": null,
   "id": "adc1a250-bbe8-4a05-b492-30fac7870ef3",
   "metadata": {},
   "outputs": [],
   "source": [
    "!pip install dtreeviz\n",
    "\n",
    "\n"
   ]
  },
  {
   "cell_type": "code",
   "execution_count": null,
   "id": "fbcdf22a-227c-4751-b91b-d02052aeb3ba",
   "metadata": {},
   "outputs": [],
   "source": [
    "import graphviz.backend as be"
   ]
  },
  {
   "cell_type": "code",
   "execution_count": null,
   "id": "2c75bac5-2a48-48c0-a798-f3fd8f264392",
   "metadata": {},
   "outputs": [],
   "source": [
    "from sklearn.datasets import * \n",
    "from dtreeviz.trees import *\n",
    "from IPython.display import Image,display_svg,SVG"
   ]
  },
  {
   "cell_type": "code",
   "execution_count": null,
   "id": "d45a298d-b8a3-4fa8-a08a-66de440324f9",
   "metadata": {},
   "outputs": [],
   "source": [
    "from dtreeviz.trees import dtreeviz "
   ]
  },
  {
   "cell_type": "code",
   "execution_count": null,
   "id": "97af40ce-ae75-4d2b-a119-52adbb9cd6f7",
   "metadata": {},
   "outputs": [],
   "source": [
    "clas=tree.DecisionTreeClassifier(max_depth=2)\n",
    "iris=load_iris()\n",
    "X_train = iris.data #input feature\n",
    "y_train = iris.target # output feature\n",
    "clas.fit(X_train,y_train)\n",
    "\n",
    "#decision tree train kiya hai"
   ]
  },
  {
   "cell_type": "code",
   "execution_count": null,
   "id": "4cd83dc9-e45b-41fc-8553-16261587f26f",
   "metadata": {
    "scrolled": true
   },
   "outputs": [],
   "source": [
    "from sklearn.tree import plot_tree\n",
    "plot_tree(clas)"
   ]
  },
  {
   "cell_type": "code",
   "execution_count": null,
   "id": "87bcc251-7141-4e14-8251-7b9a10e51292",
   "metadata": {},
   "outputs": [],
   "source": [
    "# applying classifiaction\n",
    "\n",
    "dtreeviz = (X_train,y_train)  # This would overwrite the function\n",
    "\n",
    "viz = dtreeviz(clas, X_train, y_train, feature_names=iris.feature_names,\n",
    "               class_names=[\"setosa\", \"versicolor\", \"virginica\"],scale=2)\n",
    "print(viz)\n"
   ]
  },
  {
   "cell_type": "code",
   "execution_count": null,
   "id": "e7f2c17d-0aa6-41bc-9c5c-48f061f5ae6e",
   "metadata": {},
   "outputs": [],
   "source": [
    "#work on regression table\n",
    "reg=tree.DecisionTreeRegressor(max_depth=2)\n",
    "boston = fetch_openml(name='boston', version=1)\n",
    "X_train=boston.data\n",
    "y_train=boston.target\n",
    "reg.fit(X_train,y_train)\n",
    "\n",
    "viz = dtreeviz(reg, X_train, y_train, target_name='price',\n",
    "               feature_names=boston.feature_names)\n",
    "viz\n"
   ]
  },
  {
   "cell_type": "code",
   "execution_count": null,
   "id": "ad0b7e25-7aa3-409a-8910-e9371c90f37a",
   "metadata": {},
   "outputs": [],
   "source": []
  },
  {
   "cell_type": "code",
   "execution_count": null,
   "id": "9be83b61-b071-49b4-a3f4-7ef32460130c",
   "metadata": {},
   "outputs": [],
   "source": []
  }
 ],
 "metadata": {
  "kernelspec": {
   "display_name": "Python 3 (ipykernel)",
   "language": "python",
   "name": "python3"
  },
  "language_info": {
   "codemirror_mode": {
    "name": "ipython",
    "version": 3
   },
   "file_extension": ".py",
   "mimetype": "text/x-python",
   "name": "python",
   "nbconvert_exporter": "python",
   "pygments_lexer": "ipython3",
   "version": "3.13.0"
  }
 },
 "nbformat": 4,
 "nbformat_minor": 5
}
